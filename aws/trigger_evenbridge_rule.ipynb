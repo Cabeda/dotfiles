{
 "cells": [
  {
   "cell_type": "code",
   "execution_count": 2,
   "metadata": {},
   "outputs": [],
   "source": [
    "import boto3\n",
    "import json\n",
    "\n",
    "def trigger_eventbridge_rule(event_bus_name, source, detail_type, detail):\n",
    "    # Initialize the EventBridge client\n",
    "    client = boto3.client('events')\n",
    "    \n",
    "    # Create the event entry\n",
    "    event_entry = {\n",
    "        'EventBusName': event_bus_name,\n",
    "        'Source': source,\n",
    "        'DetailType': detail_type,\n",
    "        'Detail': json.dumps(detail)\n",
    "    }\n",
    "\n",
    "    try:\n",
    "        # Put the event\n",
    "        response = client.put_events(\n",
    "            Entries=[event_entry]\n",
    "        )\n",
    "        \n",
    "        # Check for failed entries\n",
    "        if response['FailedEntryCount'] > 0:\n",
    "            for entry in response['Entries']:\n",
    "                if 'ErrorCode' in entry:\n",
    "                    print(f\"Error Code: {entry['ErrorCode']}, Error Message: {entry['ErrorMessage']}\")\n",
    "        else:\n",
    "            print(\"Event successfully sent.\")\n",
    "        \n",
    "        return response\n",
    "    except Exception as e:\n",
    "        print(f\"An error occurred: {str(e)}\")\n",
    "    \n"
   ]
  },
  {
   "cell_type": "code",
   "execution_count": 4,
   "metadata": {},
   "outputs": [
    {
     "name": "stdout",
     "output_type": "stream",
     "text": [
      "Event successfully sent.\n",
      "{'FailedEntryCount': 0, 'Entries': [{'EventId': 'fb67d151-bfff-3aa0-f646-08152c3591b9'}], 'ResponseMetadata': {'RequestId': 'e5bd02c5-0f63-46b0-8be3-faa476946d41', 'HTTPStatusCode': 200, 'HTTPHeaders': {'x-amzn-requestid': 'e5bd02c5-0f63-46b0-8be3-faa476946d41', 'content-type': 'application/x-amz-json-1.1', 'content-length': '85', 'date': 'Thu, 12 Sep 2024 15:04:12 GMT'}, 'RetryAttempts': 0}}\n"
     ]
    }
   ],
   "source": [
    "# Example usage\n",
    "event_bus_name = 'default'  # Replace with your EventBus name if different\n",
    "source = 'test.glue'\n",
    "detail_type = ''\n",
    "detail = {\n",
    "    \n",
    "}\n",
    "\n",
    "response = trigger_eventbridge_rule(event_bus_name, source, detail_type, detail)\n",
    "print(response)"
   ]
  },
  {
   "cell_type": "code",
   "execution_count": null,
   "metadata": {},
   "outputs": [],
   "source": []
  }
 ],
 "metadata": {
  "kernelspec": {
   "display_name": ".venv",
   "language": "python",
   "name": "python3"
  },
  "language_info": {
   "codemirror_mode": {
    "name": "ipython",
    "version": 3
   },
   "file_extension": ".py",
   "mimetype": "text/x-python",
   "name": "python",
   "nbconvert_exporter": "python",
   "pygments_lexer": "ipython3",
   "version": "3.12.5"
  }
 },
 "nbformat": 4,
 "nbformat_minor": 2
}
